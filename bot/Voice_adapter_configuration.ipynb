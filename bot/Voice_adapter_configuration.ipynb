{
 "cells": [
  {
   "cell_type": "code",
   "execution_count": 1,
   "id": "9b30ab19-7e77-4410-a28d-1472899d9b54",
   "metadata": {},
   "outputs": [
    {
     "name": "stdout",
     "output_type": "stream",
     "text": [
      "   0 sof-hda-dsp: - (hw:0,0), ALSA (2 in, 2 out)\n",
      "   1 sof-hda-dsp: - (hw:0,3), ALSA (0 in, 2 out)\n",
      "   2 sof-hda-dsp: - (hw:0,4), ALSA (0 in, 2 out)\n",
      "   3 sof-hda-dsp: - (hw:0,5), ALSA (0 in, 2 out)\n",
      "   4 sof-hda-dsp: - (hw:0,6), ALSA (2 in, 0 out)\n",
      "   5 sof-hda-dsp: - (hw:0,7), ALSA (2 in, 0 out)\n",
      "   6 sysdefault, ALSA (128 in, 128 out)\n",
      "   7 samplerate, ALSA (128 in, 128 out)\n",
      "   8 speexrate, ALSA (128 in, 128 out)\n",
      "   9 pulse, ALSA (32 in, 32 out)\n",
      "  10 upmix, ALSA (8 in, 8 out)\n",
      "  11 vdownmix, ALSA (6 in, 6 out)\n",
      "  12 dmix, ALSA (0 in, 2 out)\n",
      "* 13 default, ALSA (32 in, 32 out)\n"
     ]
    }
   ],
   "source": [
    "import sounddevice as sd\n",
    "print(sd.query_devices())\n"
   ]
  },
  {
   "cell_type": "code",
   "execution_count": 3,
   "id": "e3b85939-ba65-41ae-8bdf-8e541e29d8e0",
   "metadata": {},
   "outputs": [
    {
     "name": "stdout",
     "output_type": "stream",
     "text": [
      "❌ No working output devices found.\n"
     ]
    }
   ],
   "source": [
    "import sounddevice as sd\n",
    "from scipy.io.wavfile import write, read\n",
    "import numpy as np\n",
    "\n",
    "def get_working_devices():\n",
    "    devices = sd.query_devices()\n",
    "    input_devices = []\n",
    "    output_devices = []\n",
    "\n",
    "    for i, dev in enumerate(devices):\n",
    "        if dev['max_input_channels'] > 0:\n",
    "            try:\n",
    "                sd.default.device = (i, None)\n",
    "                sd.default.samplerate = int(dev['default_samplerate'])\n",
    "                sd.default.channels = 1\n",
    "                test = sd.rec(100, dtype='int16')  # Short test\n",
    "                sd.wait()\n",
    "                input_devices.append((i, dev['name'], int(dev['default_samplerate'])))\n",
    "            except Exception as e:\n",
    "                continue\n",
    "\n",
    "        if dev['max_output_channels'] > 0:\n",
    "            try:\n",
    "                sd.default.device = (None, i)\n",
    "                sd.default.samplerate = int(dev['default_samplerate'])\n",
    "                dummy = np.zeros(100, dtype='int16')\n",
    "                sd.play(dummy, blocking=True)\n",
    "                output_devices.append((i, dev['name'], int(dev['default_samplerate'])))\n",
    "            except Exception as e:\n",
    "                continue\n",
    "\n",
    "    return input_devices, output_devices\n",
    "\n",
    "\n",
    "def record_and_play(input_devices, output_device):\n",
    "    for device_id, name, sr in input_devices:\n",
    "        filename = f\"recording_device_{device_id}.wav\"\n",
    "        print(f\"\\n🎙️ Recording from: {name} (Device {device_id}, SR: {sr})\")\n",
    "\n",
    "        sd.default.device = (device_id, output_device[0])\n",
    "        sd.default.samplerate = sr\n",
    "        sd.default.channels = 1\n",
    "\n",
    "        duration = 15  # seconds\n",
    "        recording = sd.rec(int(duration * sr), dtype='int16')\n",
    "        sd.wait()\n",
    "        write(filename, sr, recording)\n",
    "        print(f\"✅ Saved to {filename}\")\n",
    "\n",
    "        print(\"🔊 Playing back...\")\n",
    "        _, data = read(filename)\n",
    "        sd.play(data, sr)\n",
    "        sd.wait()\n",
    "        print(\"✅ Playback complete.\")\n",
    "\n",
    "\n",
    "# 🔍 Main\n",
    "input_devices, output_devices = get_working_devices()\n",
    "\n",
    "if not input_devices:\n",
    "    print(\"❌ No working input devices found.\")\n",
    "elif not output_devices:\n",
    "    print(\"❌ No working output devices found.\")\n",
    "else:\n",
    "    # Pick the first working output device\n",
    "    output_device = output_devices[0]\n",
    "    print(f\"\\n🟢 Using output device: {output_device[1]} (Device {output_device[0]})\")\n",
    "    record_and_play(input_devices, output_device)\n"
   ]
  },
  {
   "cell_type": "code",
   "execution_count": 1,
   "id": "c5553170-76c6-4004-bdb9-84066946ff83",
   "metadata": {},
   "outputs": [],
   "source": [
    "def record_audio(filename=\"input.wav\", duration=5, samplerate=16000, input_device=5, output_device=9):\n",
    "    try:\n",
    "        print(f\"🎙️ Recording from device {input_device}...\")\n",
    "        sd.default.device = (input_device, output_device)\n",
    "        sd.default.samplerate = samplerate\n",
    "        sd.default.channels = 1\n",
    "\n",
    "        recording = sd.rec(int(duration * samplerate), dtype='int16')\n",
    "        sd.wait()\n",
    "\n",
    "        write(filename, samplerate, recording)\n",
    "        print(f\"✅ Saved to {filename}\")\n",
    "\n",
    "        # Playback\n",
    "        print(\"🔊 Playing back...\")\n",
    "        _, data = read(filename)\n",
    "        sd.play(data, samplerate=samplerate)\n",
    "        sd.wait()\n",
    "        print(\"✅ Playback complete.\")\n",
    "\n",
    "    except Exception as e:\n",
    "        print(f\"❌ Error: {e}\")"
   ]
  },
  {
   "cell_type": "code",
   "execution_count": null,
   "id": "31a6c799-f48c-40ed-927d-0632048e74f7",
   "metadata": {},
   "outputs": [],
   "source": []
  },
  {
   "cell_type": "code",
   "execution_count": null,
   "id": "f2ef71f7-595b-4c37-8e29-bc248e6b176a",
   "metadata": {},
   "outputs": [],
   "source": [
    "\n",
    "input_device = 5  # Use a working input device (e.g., 'default')\n",
    "output_device = 9  # Often same as input; set to correct output if needed\n",
    "sample_rate = 16000\n",
    "duration = int(input(\"Enter recording duration (seconds): \"))\n",
    "filename = f\"recording_device_{input_device}.wav\"\n",
    "\n",
    "try:\n",
    "    print(f\"🎙️ Recording from device {input_device}...\")\n",
    "    sd.default.device = (input_device, output_device)\n",
    "    sd.default.samplerate = sample_rate\n",
    "    sd.default.channels = 1\n",
    "\n",
    "    recording = sd.rec(int(duration * sample_rate), dtype='int16')\n",
    "    sd.wait()\n",
    "\n",
    "    write(filename, sample_rate, recording)\n",
    "    print(f\"✅ Saved to {filename}\")\n",
    "\n",
    "    # Read for playback\n",
    "    _, data = read(filename)\n",
    "\n",
    "    print(\"🔊 Playing back...\")\n",
    "    sd.play(data, samplerate=sample_rate)\n",
    "    sd.wait()\n",
    "    print(\"✅ Playback complete.\")\n",
    "\n",
    "except Exception as e:\n",
    "    print(f\"❌ Error: {e}\")\n"
   ]
  }
 ],
 "metadata": {
  "kernelspec": {
   "display_name": "Python 3 (ipykernel)",
   "language": "python",
   "name": "python3"
  },
  "language_info": {
   "codemirror_mode": {
    "name": "ipython",
    "version": 3
   },
   "file_extension": ".py",
   "mimetype": "text/x-python",
   "name": "python",
   "nbconvert_exporter": "python",
   "pygments_lexer": "ipython3",
   "version": "3.10.12"
  }
 },
 "nbformat": 4,
 "nbformat_minor": 5
}
